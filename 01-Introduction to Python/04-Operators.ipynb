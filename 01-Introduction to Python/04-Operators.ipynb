{
  "nbformat": 4,
  "nbformat_minor": 0,
  "metadata": {
    "colab": {
      "provenance": []
    },
    "kernelspec": {
      "name": "python3",
      "display_name": "Python 3"
    },
    "language_info": {
      "name": "python"
    }
  },
  "cells": [
    {
      "cell_type": "markdown",
      "source": [
        "#Operators"
      ],
      "metadata": {
        "id": "eqNmQ8N2Hkqe"
      }
    },
    {
      "cell_type": "markdown",
      "source": [
        "1. Arithmetic Operators\n",
        "2. Comparison Operators\n",
        "3. Logical Operators\n",
        "4. Assignment Operators\n",
        "5. Identity Operators\n",
        "6. Membership Operators"
      ],
      "metadata": {
        "id": "01ikR207HoSv"
      }
    },
    {
      "cell_type": "markdown",
      "source": [
        "# Arithmetic Operators"
      ],
      "metadata": {
        "id": "g5HTPMe6dJZN"
      }
    },
    {
      "cell_type": "code",
      "execution_count": 9,
      "metadata": {
        "colab": {
          "base_uri": "https://localhost:8080/"
        },
        "id": "W-NUfmonKYZy",
        "outputId": "17ded34f-a320-44aa-f601-30158040874a"
      },
      "outputs": [
        {
          "output_type": "stream",
          "name": "stdout",
          "text": [
            "sum:  15\n",
            "difference:  11\n",
            "product:  26\n",
            "division:  6.5\n",
            "quotient:  6\n",
            "remainder:  1\n",
            "Exponent:  169\n"
          ]
        }
      ],
      "source": [
        "# Arithmetic Operators\n",
        "\n",
        "a = 13\n",
        "b = 2\n",
        "print(\"sum: \",a+b)\n",
        "print(\"difference: \",a-b)\n",
        "print(\"product: \",a*b)\n",
        "print(\"division: \" ,a/b)\n",
        "print(\"quotient: \",a//b)\n",
        "print(\"remainder: \",a%b)\n",
        "print(\"Exponent: \", a ** b)"
      ]
    },
    {
      "cell_type": "markdown",
      "source": [
        "#Assignment Operators"
      ],
      "metadata": {
        "id": "2jxRWHW1dMns"
      }
    },
    {
      "cell_type": "code",
      "source": [
        "# Assignment Operators\n",
        "\n",
        "a = 5\n",
        "\n",
        "a+=5\n",
        "print(a)\n",
        "\n",
        "a-=3\n",
        "print(a)\n",
        "\n",
        "a*=2\n",
        "print(a)\n",
        "\n",
        "a/=2\n",
        "print(a)\n"
      ],
      "metadata": {
        "colab": {
          "base_uri": "https://localhost:8080/"
        },
        "id": "Yv-8PFXybedd",
        "outputId": "0b7edeff-1c50-453f-f86c-ef5a4f24cf26"
      },
      "execution_count": 10,
      "outputs": [
        {
          "output_type": "stream",
          "name": "stdout",
          "text": [
            "10\n",
            "7\n",
            "14\n",
            "7.0\n"
          ]
        }
      ]
    },
    {
      "cell_type": "markdown",
      "source": [
        "#Relational operators"
      ],
      "metadata": {
        "id": "Hn9XUWDtdPXd"
      }
    },
    {
      "cell_type": "code",
      "source": [
        "# Comparison / Relational Operators\n",
        "# returns boolean value\n",
        "\n",
        "a = 5\n",
        "b = 10\n",
        "\n",
        "print(a>b)\n",
        "print(a<b)\n",
        "print(a>=b)\n",
        "print(a<=b)\n",
        "print(a==b)\n",
        "print(a!=b)\n"
      ],
      "metadata": {
        "colab": {
          "base_uri": "https://localhost:8080/"
        },
        "id": "zP0IRZzAIOmo",
        "outputId": "edf2a1e9-a653-41e5-a385-1b1a16b5e1c4"
      },
      "execution_count": 11,
      "outputs": [
        {
          "output_type": "stream",
          "name": "stdout",
          "text": [
            "False\n",
            "True\n",
            "False\n",
            "True\n",
            "False\n",
            "True\n"
          ]
        }
      ]
    },
    {
      "cell_type": "markdown",
      "source": [
        "#Logical Operators"
      ],
      "metadata": {
        "id": "9lm1x7MIdS_S"
      }
    },
    {
      "cell_type": "code",
      "source": [
        "# Logical Operators\n",
        "\n",
        "#AND\n",
        "a = 10\n",
        "b = 5\n",
        "print(a>b and a%2==0)"
      ],
      "metadata": {
        "colab": {
          "base_uri": "https://localhost:8080/"
        },
        "id": "2gl8u9a5b-B7",
        "outputId": "50cc7bfe-097f-4222-e7e3-27a1a5655c87"
      },
      "execution_count": 12,
      "outputs": [
        {
          "output_type": "stream",
          "name": "stdout",
          "text": [
            "True\n"
          ]
        }
      ]
    },
    {
      "cell_type": "code",
      "source": [
        "# OR\n",
        "\n",
        "a = 10\n",
        "b = 50\n",
        "print(a>b or a%2==0)"
      ],
      "metadata": {
        "colab": {
          "base_uri": "https://localhost:8080/"
        },
        "id": "yt96VdhacbwV",
        "outputId": "273e6db8-a48a-4fa8-dbe9-c268e5f4b0cc"
      },
      "execution_count": 13,
      "outputs": [
        {
          "output_type": "stream",
          "name": "stdout",
          "text": [
            "True\n"
          ]
        }
      ]
    },
    {
      "cell_type": "code",
      "source": [
        "a = 10\n",
        "b = 5\n",
        "print(not a>b)  # Inverts the value / result"
      ],
      "metadata": {
        "colab": {
          "base_uri": "https://localhost:8080/"
        },
        "id": "K6ZCPm-Scm_Z",
        "outputId": "7b2cc769-7e3f-4510-b8ac-64022e41bee3"
      },
      "execution_count": 14,
      "outputs": [
        {
          "output_type": "stream",
          "name": "stdout",
          "text": [
            "False\n"
          ]
        }
      ]
    },
    {
      "cell_type": "markdown",
      "source": [
        "#Identity Operator"
      ],
      "metadata": {
        "id": "WBwRysZndVxF"
      }
    },
    {
      "cell_type": "code",
      "source": [
        "# Identity Operator - is , is not\n",
        "\n",
        "# is\n",
        "\n",
        "x = 5\n",
        "y = 5\n",
        "\n",
        "print( x is y )"
      ],
      "metadata": {
        "colab": {
          "base_uri": "https://localhost:8080/"
        },
        "id": "JNlCmQu5cqoK",
        "outputId": "c1c7d535-396c-4c68-df6c-bcdaf32739ac"
      },
      "execution_count": 15,
      "outputs": [
        {
          "output_type": "stream",
          "name": "stdout",
          "text": [
            "True\n"
          ]
        }
      ]
    },
    {
      "cell_type": "code",
      "source": [
        "# is\n",
        "\n",
        "x = 50\n",
        "y = 5\n",
        "\n",
        "print( x is y )"
      ],
      "metadata": {
        "colab": {
          "base_uri": "https://localhost:8080/"
        },
        "id": "ru-JEQABc69w",
        "outputId": "bc4e8973-9455-468a-ebe6-b2120ec9a971"
      },
      "execution_count": 16,
      "outputs": [
        {
          "output_type": "stream",
          "name": "stdout",
          "text": [
            "False\n"
          ]
        }
      ]
    },
    {
      "cell_type": "code",
      "source": [
        "# is not\n",
        "\n",
        "x = 5\n",
        "y = 5\n",
        "\n",
        "print( x is not y )"
      ],
      "metadata": {
        "colab": {
          "base_uri": "https://localhost:8080/"
        },
        "id": "S08QczVjc9X6",
        "outputId": "bf562148-e936-4da6-85ee-57c20c30dea8"
      },
      "execution_count": 17,
      "outputs": [
        {
          "output_type": "stream",
          "name": "stdout",
          "text": [
            "False\n"
          ]
        }
      ]
    },
    {
      "cell_type": "code",
      "source": [
        "# is not\n",
        "\n",
        "x = 5\n",
        "y = 50\n",
        "\n",
        "print( x is not y )"
      ],
      "metadata": {
        "colab": {
          "base_uri": "https://localhost:8080/"
        },
        "id": "J5JINPwKc_jf",
        "outputId": "2e61604b-22d6-4cb7-83aa-8ceaf28251b6"
      },
      "execution_count": 22,
      "outputs": [
        {
          "output_type": "stream",
          "name": "stdout",
          "text": [
            "True\n"
          ]
        }
      ]
    },
    {
      "cell_type": "markdown",
      "source": [
        "#Membership Operators"
      ],
      "metadata": {
        "id": "mUI6im_pdYJM"
      }
    },
    {
      "cell_type": "code",
      "source": [
        "# Membership Operator - in , not in\n",
        "\n",
        "a = 5\n",
        "\n",
        "b = [1,2,3,4,5,6]\n",
        "print(a in b)\n",
        "print(a not in b)"
      ],
      "metadata": {
        "colab": {
          "base_uri": "https://localhost:8080/"
        },
        "id": "2ZHDFso0dBRG",
        "outputId": "abd71832-33a5-4370-ee8b-27977c423071"
      },
      "execution_count": 20,
      "outputs": [
        {
          "output_type": "stream",
          "name": "stdout",
          "text": [
            "True\n",
            "False\n"
          ]
        }
      ]
    },
    {
      "cell_type": "code",
      "source": [],
      "metadata": {
        "id": "Qbw5pBzUdmIW"
      },
      "execution_count": null,
      "outputs": []
    }
  ]
}
