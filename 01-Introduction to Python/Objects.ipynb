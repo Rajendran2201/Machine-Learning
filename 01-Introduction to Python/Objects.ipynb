{
  "nbformat": 4,
  "nbformat_minor": 0,
  "metadata": {
    "colab": {
      "provenance": []
    },
    "kernelspec": {
      "name": "python3",
      "display_name": "Python 3"
    },
    "language_info": {
      "name": "python"
    }
  },
  "cells": [
    {
      "cell_type": "markdown",
      "source": [
        "#Objects in Python\n",
        "\n",
        "1. Immutable Objects\n",
        "2. Mutable Objects"
      ],
      "metadata": {
        "id": "85odwxLyAJuh"
      }
    },
    {
      "cell_type": "markdown",
      "source": [
        "Immutable Objects :\n",
        "\n",
        "1. int\n",
        "2. float\n",
        "3. string\n",
        "4. boolean\n",
        "5. tuple"
      ],
      "metadata": {
        "id": "jQhnVrSXASRz"
      }
    },
    {
      "cell_type": "markdown",
      "source": [
        "Mutable Objects:\n",
        "\n",
        "1. list\n",
        "2. set\n",
        "3. dictionary"
      ],
      "metadata": {
        "id": "ySjxtXjHAftN"
      }
    },
    {
      "cell_type": "markdown",
      "source": [
        "#Lists"
      ],
      "metadata": {
        "id": "5rS6YQWMBsZR"
      }
    },
    {
      "cell_type": "code",
      "source": [
        "# LISTS\n",
        "\n",
        "# Lists should be enclosed with Squre Brackets\n",
        "# Lists allows duplicate values\n",
        "\n",
        "l = [1,5,3,5,2,5,6,3,2,6]\n",
        "print(l)\n",
        "print(type(l))"
      ],
      "metadata": {
        "colab": {
          "base_uri": "https://localhost:8080/"
        },
        "id": "G3tvt2-xAmvF",
        "outputId": "41be04ab-d1b8-46e6-85c4-a685281f9793"
      },
      "execution_count": 6,
      "outputs": [
        {
          "output_type": "stream",
          "name": "stdout",
          "text": [
            "[1, 5, 3, 5, 2, 5, 6, 3, 2, 6]\n",
            "<class 'list'>\n"
          ]
        }
      ]
    },
    {
      "cell_type": "code",
      "source": [
        "# lists can have multiple data types\n",
        "\n",
        "ls = [1,\"string\", 8.432,'f']\n",
        "print(ls)"
      ],
      "metadata": {
        "colab": {
          "base_uri": "https://localhost:8080/"
        },
        "id": "Lsssjaq0A4au",
        "outputId": "b7f68ee8-4777-4fe1-a0d4-2afbb414f88f"
      },
      "execution_count": 10,
      "outputs": [
        {
          "output_type": "stream",
          "name": "stdout",
          "text": [
            "[1, 'string', 8.432, 'f']\n"
          ]
        }
      ]
    },
    {
      "cell_type": "markdown",
      "source": [
        "Operations in Lists\n"
      ],
      "metadata": {
        "id": "5UpMIUNhBo-v"
      }
    },
    {
      "cell_type": "code",
      "source": [
        "# Add elements to a list\n",
        "\n",
        "\n",
        "# lists are mutable (changeable)\n",
        "l.append(12)\n",
        "print(l)"
      ],
      "metadata": {
        "colab": {
          "base_uri": "https://localhost:8080/"
        },
        "id": "36xC9BmpBOhW",
        "outputId": "dc2eaf10-43e3-445a-9dfb-e32fc441cdce"
      },
      "execution_count": 11,
      "outputs": [
        {
          "output_type": "stream",
          "name": "stdout",
          "text": [
            "[1, 5, 3, 5, 2, 5, 6, 3, 2, 6, 6, 6, 12]\n"
          ]
        }
      ]
    },
    {
      "cell_type": "code",
      "source": [
        "# print elements of a list using their index value\n",
        "print(l[3])\n",
        "print(l[0])"
      ],
      "metadata": {
        "colab": {
          "base_uri": "https://localhost:8080/"
        },
        "id": "iZPbBgPyBk7i",
        "outputId": "856156b9-598c-40d1-fb03-ce9ceecd8fd5"
      },
      "execution_count": 12,
      "outputs": [
        {
          "output_type": "stream",
          "name": "stdout",
          "text": [
            "5\n",
            "1\n"
          ]
        }
      ]
    },
    {
      "cell_type": "code",
      "source": [
        "# count the elements in a list\n",
        "print(len(l))"
      ],
      "metadata": {
        "colab": {
          "base_uri": "https://localhost:8080/"
        },
        "id": "AHlyH8ZAB2pp",
        "outputId": "191a92f6-8df8-40f9-a709-1e75900c49ec"
      },
      "execution_count": 13,
      "outputs": [
        {
          "output_type": "stream",
          "name": "stdout",
          "text": [
            "13\n"
          ]
        }
      ]
    },
    {
      "cell_type": "code",
      "source": [
        "# initialising an empty list\n",
        "\n",
        "list_1 = []\n",
        "list_1.append(input(\"Enter your name: \"))\n",
        "print(list_1)"
      ],
      "metadata": {
        "colab": {
          "base_uri": "https://localhost:8080/"
        },
        "id": "BnR-8Uh-CTLL",
        "outputId": "9d4ed81b-3fb2-4871-c53d-9f75f0128160"
      },
      "execution_count": 19,
      "outputs": [
        {
          "output_type": "stream",
          "name": "stdout",
          "text": [
            "Enter your name: Raj\n",
            "['Raj']\n"
          ]
        }
      ]
    },
    {
      "cell_type": "code",
      "source": [
        "# deleting an element in a list\n",
        "print(l)\n",
        "del l[0]\n",
        "print(l)"
      ],
      "metadata": {
        "colab": {
          "base_uri": "https://localhost:8080/"
        },
        "id": "vIKpqRGfCud2",
        "outputId": "4a89bd08-fd7f-435d-99b9-1db2c25ff3d6"
      },
      "execution_count": 20,
      "outputs": [
        {
          "output_type": "stream",
          "name": "stdout",
          "text": [
            "[2, 5, 6, 3, 2, 6, 6, 6, 12]\n",
            "[5, 6, 3, 2, 6, 6, 6, 12]\n"
          ]
        }
      ]
    },
    {
      "cell_type": "code",
      "source": [
        "#join two list\n",
        "\n",
        "list1 = [12,12,14,12,32]\n",
        "list2 = [42,45,23,54]\n",
        "\n",
        "print(list1 + list2)"
      ],
      "metadata": {
        "colab": {
          "base_uri": "https://localhost:8080/"
        },
        "id": "l_bUeoKgC280",
        "outputId": "916e672c-04ac-4595-d004-ab62386e98f6"
      },
      "execution_count": 21,
      "outputs": [
        {
          "output_type": "stream",
          "name": "stdout",
          "text": [
            "[12, 12, 14, 12, 32, 42, 45, 23, 54]\n"
          ]
        }
      ]
    },
    {
      "cell_type": "code",
      "source": [],
      "metadata": {
        "id": "wuLslen5DNkx"
      },
      "execution_count": null,
      "outputs": []
    },
    {
      "cell_type": "markdown",
      "source": [
        "# Tuples"
      ],
      "metadata": {
        "id": "Od3FNnFyDRLV"
      }
    },
    {
      "cell_type": "code",
      "source": [
        "# Tuples are enclosed by parantheses\n",
        "\n",
        "tuple_1 = (1,2,\"raj\",4,5)\n",
        "print(tuple_1)\n",
        "print(type(tuple_1))"
      ],
      "metadata": {
        "colab": {
          "base_uri": "https://localhost:8080/"
        },
        "id": "APdHWjtfDSST",
        "outputId": "572d167f-4d0c-4362-9353-cd3894591457"
      },
      "execution_count": 24,
      "outputs": [
        {
          "output_type": "stream",
          "name": "stdout",
          "text": [
            "(1, 2, 'raj', 4, 5)\n",
            "<class 'tuple'>\n"
          ]
        }
      ]
    },
    {
      "cell_type": "code",
      "source": [
        "# Tuple allows values of multiple data tpes\n",
        "# Tuples are immutable\n",
        "# append() doesn't work in tuple\n",
        "# length can be found"
      ],
      "metadata": {
        "id": "9EYN7l7vDXPt"
      },
      "execution_count": 25,
      "outputs": []
    },
    {
      "cell_type": "code",
      "source": [
        "#converting list into tuple\n",
        "\n",
        "list1 = [2,34,43,54]\n",
        "print(list1)\n",
        "\n",
        "tuple1 = tuple(list1)\n",
        "print(tuple1)\n",
        "type(tuple1)"
      ],
      "metadata": {
        "colab": {
          "base_uri": "https://localhost:8080/"
        },
        "id": "S5f0_bQxDxa2",
        "outputId": "0a075cdb-fcae-4e7e-c9f1-173e5f0e11a8"
      },
      "execution_count": 27,
      "outputs": [
        {
          "output_type": "stream",
          "name": "stdout",
          "text": [
            "[2, 34, 43, 54]\n",
            "(2, 34, 43, 54)\n"
          ]
        },
        {
          "output_type": "execute_result",
          "data": {
            "text/plain": [
              "tuple"
            ]
          },
          "metadata": {},
          "execution_count": 27
        }
      ]
    },
    {
      "cell_type": "markdown",
      "source": [
        "# Sets\n"
      ],
      "metadata": {
        "id": "7T-oqIzpEmYo"
      }
    },
    {
      "cell_type": "code",
      "source": [
        "# sets should be contain only unique values\n",
        "# No duplicate values are allowed\n",
        "# sets are enclosed by curly braces\n",
        "\n",
        "my_set = {3,5,2,5,6}  # duplicate 5 is removed from the set\n",
        "print(my_set)\n",
        "type(my_set)"
      ],
      "metadata": {
        "colab": {
          "base_uri": "https://localhost:8080/"
        },
        "id": "0QvfA5UmD9Sk",
        "outputId": "1da148b2-0b4a-41b9-d8a0-367d2128131e"
      },
      "execution_count": 29,
      "outputs": [
        {
          "output_type": "stream",
          "name": "stdout",
          "text": [
            "{2, 3, 5, 6}\n"
          ]
        },
        {
          "output_type": "execute_result",
          "data": {
            "text/plain": [
              "set"
            ]
          },
          "metadata": {},
          "execution_count": 29
        }
      ]
    },
    {
      "cell_type": "code",
      "source": [
        "# set does not support indexing\n",
        "\n",
        "print(my_set[0])  # throws an error"
      ],
      "metadata": {
        "colab": {
          "base_uri": "https://localhost:8080/",
          "height": 208
        },
        "id": "Ovr_iapsE7tl",
        "outputId": "2608bfcf-4440-424b-8ff8-5fdb252adb0c"
      },
      "execution_count": 30,
      "outputs": [
        {
          "output_type": "error",
          "ename": "TypeError",
          "evalue": "'set' object is not subscriptable",
          "traceback": [
            "\u001b[0;31m---------------------------------------------------------------------------\u001b[0m",
            "\u001b[0;31mTypeError\u001b[0m                                 Traceback (most recent call last)",
            "\u001b[0;32m<ipython-input-30-9c1961b58c7a>\u001b[0m in \u001b[0;36m<cell line: 3>\u001b[0;34m()\u001b[0m\n\u001b[1;32m      1\u001b[0m \u001b[0;31m# set does not support indexing\u001b[0m\u001b[0;34m\u001b[0m\u001b[0;34m\u001b[0m\u001b[0m\n\u001b[1;32m      2\u001b[0m \u001b[0;34m\u001b[0m\u001b[0m\n\u001b[0;32m----> 3\u001b[0;31m \u001b[0mprint\u001b[0m\u001b[0;34m(\u001b[0m\u001b[0mmy_set\u001b[0m\u001b[0;34m[\u001b[0m\u001b[0;36m0\u001b[0m\u001b[0;34m]\u001b[0m\u001b[0;34m)\u001b[0m\u001b[0;34m\u001b[0m\u001b[0;34m\u001b[0m\u001b[0m\n\u001b[0m",
            "\u001b[0;31mTypeError\u001b[0m: 'set' object is not subscriptable"
          ]
        }
      ]
    },
    {
      "cell_type": "code",
      "source": [
        "#convert list into set\n",
        "\n",
        "list_1 = [1,2,3,5]\n",
        "set_1 = set(list_1)   # set() is used for the conversion\n",
        "print(set_1)"
      ],
      "metadata": {
        "colab": {
          "base_uri": "https://localhost:8080/"
        },
        "id": "LcBaRAH5IWle",
        "outputId": "294a614e-eaca-40c6-805b-d37eb5e7a47b"
      },
      "execution_count": 31,
      "outputs": [
        {
          "output_type": "stream",
          "name": "stdout",
          "text": [
            "{1, 2, 3, 5}\n"
          ]
        }
      ]
    },
    {
      "cell_type": "markdown",
      "source": [
        "# Dictionary\n"
      ],
      "metadata": {
        "id": "uejbkcA7I5GT"
      }
    },
    {
      "cell_type": "code",
      "source": [
        "# It contains key-value pair\n",
        "\n",
        "my_dict = {'name' : 'raj' , 'age': 18, 'country':'India' ,  'grade':'O'}\n",
        "print(my_dict)\n",
        "type(my_dict)"
      ],
      "metadata": {
        "colab": {
          "base_uri": "https://localhost:8080/"
        },
        "id": "XhAwSIVKIkaV",
        "outputId": "71ba823e-90a2-48d0-bb18-1a9e907273ff"
      },
      "execution_count": 36,
      "outputs": [
        {
          "output_type": "stream",
          "name": "stdout",
          "text": [
            "{'name': 'raj', 'age': 18, 'country': 'India', 'grade': 'O'}\n"
          ]
        },
        {
          "output_type": "execute_result",
          "data": {
            "text/plain": [
              "dict"
            ]
          },
          "metadata": {},
          "execution_count": 36
        }
      ]
    },
    {
      "cell_type": "code",
      "source": [
        "print(my_dict['name'])\n",
        "print(my_dict['age'])\n",
        "print(my_dict['grade'])"
      ],
      "metadata": {
        "colab": {
          "base_uri": "https://localhost:8080/"
        },
        "id": "RaYyVnEOJTSg",
        "outputId": "23cda01e-7565-437e-c2b1-c378a34c6a3b"
      },
      "execution_count": 37,
      "outputs": [
        {
          "output_type": "stream",
          "name": "stdout",
          "text": [
            "raj\n",
            "18\n",
            "O\n"
          ]
        }
      ]
    },
    {
      "cell_type": "code",
      "source": [
        "# NOTE : Dictionaries does not allow duplicate values\n",
        "\n",
        "dict1 = {'name' : 'raj' , 'age': 18, 'country':'India' ,  'grade':'O','name' : 'raj' , 'age': 18, 'country':'India' ,  'grade':'O'}\n",
        "print(dict1)"
      ],
      "metadata": {
        "colab": {
          "base_uri": "https://localhost:8080/"
        },
        "id": "s6-8yUKbJpja",
        "outputId": "19e70d41-e25e-4d11-e586-f323e9fd71fb"
      },
      "execution_count": 38,
      "outputs": [
        {
          "output_type": "stream",
          "name": "stdout",
          "text": [
            "{'name': 'raj', 'age': 18, 'country': 'India', 'grade': 'O'}\n"
          ]
        }
      ]
    },
    {
      "cell_type": "code",
      "source": [],
      "metadata": {
        "id": "KYk4HLBUJ-Fk"
      },
      "execution_count": null,
      "outputs": []
    }
  ]
}